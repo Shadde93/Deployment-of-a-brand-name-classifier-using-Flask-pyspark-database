{
 "cells": [
  {
   "cell_type": "code",
   "execution_count": null,
   "metadata": {},
   "outputs": [],
   "source": [
    "import pandas as pd\n",
    "import mysql.connector as msql\n",
    "from mysql.connector import Error\n",
    "from sqlalchemy import create_engine"
   ]
  },
  {
   "cell_type": "code",
   "execution_count": null,
   "metadata": {},
   "outputs": [],
   "source": [
    "path = 'Data/7mm_companies.csv'\n",
    "df = pd.read_csv(path)"
   ]
  },
  {
   "cell_type": "code",
   "execution_count": null,
   "metadata": {},
   "outputs": [],
   "source": [
    "def create_database(base_name, host, user, password, port):\n",
    "    try:\n",
    "        conn = msql.connect(host = host, user = user, password = password, port = port)\n",
    "        if conn.is_connected():\n",
    "            cursor = conn.cursor()\n",
    "            base_str = 'CREATE DATABASE ' + base_name\n",
    "            cursor.execute(base_str)\n",
    "            print(base_name + ' database is created')\n",
    "            return(conn, cursor)        \n",
    "    except Error as e:\n",
    "        print('Error while connecting to MySQL', e)\n",
    "        return(conn, cursor)"
   ]
  },
  {
   "cell_type": "code",
   "execution_count": null,
   "metadata": {},
   "outputs": [],
   "source": [
    "def store_tables_in_db(df, df_name, base_name, host, user, password, port):\n",
    "    engine = create_engine('mysql+pymysql://{user}:{pw}@{host}:{port}/{db}'\n",
    "                           .format(user=user, pw=password, host = host, port= str(port), db = base_name))\n",
    "    df1.to_sql(df_name, con = engine, if_exists = 'replace', index = False)\n",
    "    return(print('{} was stored in {}'.format(df_name, base_name)))"
   ]
  },
  {
   "cell_type": "code",
   "execution_count": null,
   "metadata": {},
   "outputs": [],
   "source": [
    "def close_connect(conn, cursor):\n",
    "    if (conn.is_connected()):\n",
    "        cursor.close()\n",
    "        conn.close()\n",
    "        return(print(\"MySQL connection is closed\"))\n",
    "    else:\n",
    "        return(print(\"MySQL connection is already closed\"))"
   ]
  },
  {
   "cell_type": "code",
   "execution_count": null,
   "metadata": {},
   "outputs": [],
   "source": [
    "\"\"\" Create database. Store pandas df as tables in database. Close connection \"\"\"\n",
    "\n",
    "host='127.0.0.1'\n",
    "user='root'\n",
    "password=''\n",
    "port = 3307\n",
    "base_name = 'company_names'\n",
    "df_name = 'company_table'\n",
    "df = df\n",
    "\n",
    "conn, cursor = create_database(base_name, host, user, password, port)\n",
    "store_tables_in_db(df, df_name, base_name, host, user, password, port)\n",
    "close_connect(conn, cursor)"
   ]
  }
 ],
 "metadata": {
  "kernelspec": {
   "display_name": "Python 3",
   "language": "python",
   "name": "python3"
  },
  "language_info": {
   "codemirror_mode": {
    "name": "ipython",
    "version": 3
   },
   "file_extension": ".py",
   "mimetype": "text/x-python",
   "name": "python",
   "nbconvert_exporter": "python",
   "pygments_lexer": "ipython3",
   "version": "3.7.6"
  }
 },
 "nbformat": 4,
 "nbformat_minor": 4
}
